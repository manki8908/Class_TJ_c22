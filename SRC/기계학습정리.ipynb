{
 "cells": [
  {
   "cell_type": "markdown",
   "metadata": {},
   "source": [
    "# ML 정리\n",
    "\n",
    "* 지도학습\n",
    "  * 분류, 예측 합쳐서\n",
    "    * k 최근접 이웃(k-nearest neighbors)\n",
    "    * 선형회귀\n",
    "    * 로지스틱회귀\n",
    "    * 서포트 벡터 머신\n",
    "    * 트리모델\n",
    "    * 신경망\n",
    "* 비지도학습\n",
    "  * 군집\n",
    "    * k-평균\n",
    "    * DBSCAN\n",
    "    * HCA(계층적 군집분석)\n",
    "  * 이상치 탐지, 특이치 탐지\n",
    "    * 원-클래스(one-class SVM)\n",
    "    * isolation forest\n",
    "  * 시각화, 차원축소\n",
    "    * PCA\n",
    "    * 커널 PCA\n",
    "    * LLE(지역적 선형 임베딩)\n",
    "    * t-SNE(t-distributed stochastic neighbor embedding)\n",
    "  * 연관 규칙 학습\n",
    "    * Apriori\n",
    "    * Eclat"
   ]
  },
  {
   "cell_type": "code",
   "execution_count": null,
   "metadata": {},
   "outputs": [],
   "source": []
  },
  {
   "cell_type": "markdown",
   "metadata": {},
   "source": [
    "* 연관규칙\n",
    "* "
   ]
  }
 ],
 "metadata": {
  "language_info": {
   "name": "python"
  },
  "orig_nbformat": 4
 },
 "nbformat": 4,
 "nbformat_minor": 2
}
