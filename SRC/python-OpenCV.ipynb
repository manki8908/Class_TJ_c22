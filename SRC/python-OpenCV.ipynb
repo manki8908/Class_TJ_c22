{
 "cells": [
  {
   "cell_type": "markdown",
   "metadata": {},
   "source": [
    "### Image Processing"
   ]
  },
  {
   "cell_type": "markdown",
   "metadata": {},
   "source": [
    "* blank 이미지만들기"
   ]
  },
  {
   "cell_type": "code",
   "execution_count": null,
   "metadata": {},
   "outputs": [],
   "source": [
    "import cv2\n",
    "\n",
    "import numpy as np\n",
    "\n",
    "\n",
    "# 0~255\n",
    "# black~white\n",
    "\n",
    "img = np.full((500,500,3), 255, dtype=np.uint8) # 1byte 정수\n",
    "\n",
    "cv2.imwrite('d:/images/blank_500.jpg', img)\n",
    "\n",
    "print(img)"
   ]
  },
  {
   "cell_type": "code",
   "execution_count": null,
   "metadata": {},
   "outputs": [],
   "source": [
    "import matplotlib.pyplot as plt\n",
    "\n",
    "import numpy as np\n",
    "\n",
    "# 2D image\n",
    "img=np.array([[0,0,0,0,0,0,0,0,0,0],\n",
    "\n",
    "              [0,0,0,0,0,0,0,0,0,0],\n",
    "\n",
    "              [0,0,0,1,1,1,1,1,0,0],\n",
    "\n",
    "              [0,0,0,0,0,0,0,1,0,0],\n",
    "\n",
    "              [0,0,0,1,1,1,1,1,0,0],\n",
    "\n",
    "              [0,0,0,0,0,0,0,1,0,0],\n",
    "\n",
    "              [0,0,0,1,1,1,1,1,0,0],\n",
    "\n",
    "              [0,0,0,0,0,0,0,0,0,0],\n",
    "\n",
    "              [0,0,0,0,0,0,0,0,0,0]],dtype=np.float32)\n",
    "\n",
    "plt.imshow(img,cmap='gray')"
   ]
  },
  {
   "cell_type": "code",
   "execution_count": null,
   "metadata": {},
   "outputs": [],
   "source": [
    "img = cv2.imread('d:/images/pencils.jpg')\n",
    "gray = cv2.cvtColor(img, cv2.COLOR_BGR2GRAY)  # openCV=bgr to matplot=rgb\n",
    "gray = cv2.resize(gray, (16,16))\n",
    "\n",
    "\n",
    "# 픽셀의 평균값\n",
    "avg = gray.mean()\n",
    "\n",
    "\n",
    "# 평균값을 기준으로 0과 1로 변환\n",
    "bin = 1 * (gray > avg)\n",
    "print(bin)\n",
    "\n",
    "# 2진수 문자열을 16진수 문자열로 변환\n",
    "dhash = []\n",
    "for row in bin.tolist():\n",
    "    s = ''.join([str(i) for i in row])\n",
    "    dhash.append('%02x'%(int(s,2)))\n",
    "\n",
    "dhash = ''.join(dhash)\n",
    "print(dhash)\n",
    "cv2.namedWindow('pistol', cv2.WINDOW_GUI_NORMAL)\n",
    "cv2.imshow('pistol', img)\n",
    "cv2.waitKey(0)"
   ]
  },
  {
   "cell_type": "code",
   "execution_count": null,
   "metadata": {},
   "outputs": [],
   "source": [
    "import cv2\n",
    "\n",
    "import matplotlib.pyplot as plt\n",
    "\n",
    "#img = cv2.imread(\"d:/images/rear_garden.PNG\")\n",
    "img = cv2.imread('d:/images/pencils.jpg')\n",
    "print(img.shape) # height, width, channel\n",
    "img = cv2.cvtColor(img, cv2.COLOR_BGR2RGB)\n",
    "plt.imshow(img)\n",
    "\n"
   ]
  },
  {
   "cell_type": "code",
   "execution_count": null,
   "metadata": {},
   "outputs": [],
   "source": [
    "###########################\n",
    "\n",
    "# 이미지의 특정 위치 = 픽셀(Pixel), Pixel(BGB)\n",
    "(b, g, r) = img[0, 0]\n",
    "print(\"Pixel at (0, 0) - Red: {}, Green: {}, Blue: {}\".format(r, g, b))\n",
    "\n"
   ]
  },
  {
   "cell_type": "code",
   "execution_count": null,
   "metadata": {},
   "outputs": [],
   "source": [
    "###########################\n",
    "\n",
    "# ROI\n",
    "ROI = img[50:100, 50:100]\n",
    "plt.imshow(ROI)\n",
    "\n"
   ]
  },
  {
   "cell_type": "code",
   "execution_count": null,
   "metadata": {},
   "outputs": [],
   "source": [
    "###########################\n",
    "\n",
    "# 이미지 내에서 특정한 범위만 지정하여 색상을 변경\n",
    "\n",
    "img[50:100, 50:100] = (0, 0, 255)\n",
    "\n",
    "plt.imshow(img)"
   ]
  },
  {
   "cell_type": "markdown",
   "metadata": {},
   "source": [
    "* 이미지-컬러채널"
   ]
  },
  {
   "cell_type": "code",
   "execution_count": null,
   "metadata": {},
   "outputs": [],
   "source": [
    "import cv2\n",
    "\n",
    "import matplotlib.pyplot as plt\n",
    "\n",
    "import numpy as np\n",
    "\n",
    "img = cv2.imread(\"d:/images/rear_garden.PNG\")\n",
    "\n",
    "print(img.shape)\n",
    "\n",
    "(height, width) = img.shape[:2]\n",
    "\n",
    "center = (width // 2, height // 2)\n",
    "\n",
    "img = cv2.cvtColor(img, cv2.COLOR_BGR2RGB)\n",
    "\n",
    "plt.imshow(img)"
   ]
  },
  {
   "cell_type": "code",
   "execution_count": null,
   "metadata": {},
   "outputs": [],
   "source": [
    "# 이미지의 채널 분할\n",
    "(Blue, Green, Red) = cv2.split(img)\n",
    "zeros = np.zeros(img.shape[:2], dtype = \"uint8\")\n",
    "print(\"Red.shape\", Red.shape)\n",
    "\n",
    "# red\n",
    "img = cv2.cvtColor(cv2.merge([zeros, zeros, Red]), cv2.COLOR_BGR2RGB)\n",
    "plt.imshow(img)"
   ]
  },
  {
   "cell_type": "code",
   "execution_count": null,
   "metadata": {},
   "outputs": [],
   "source": [
    "# green\n",
    "\n",
    "img = cv2.cvtColor(cv2.merge([zeros, Green, zeros]), cv2.COLOR_BGR2RGB)\n",
    "\n",
    "plt.imshow(img)"
   ]
  },
  {
   "cell_type": "code",
   "execution_count": null,
   "metadata": {},
   "outputs": [],
   "source": [
    "# blue\n",
    "img = cv2.cvtColor(cv2.merge([Blue, zeros, zeros]), cv2.COLOR_BGR2RGB)\n",
    "\n",
    "plt.imshow(img)"
   ]
  },
  {
   "cell_type": "code",
   "execution_count": null,
   "metadata": {},
   "outputs": [],
   "source": [
    "# 분할된 3채널 합치기\n",
    "\n",
    "BGR = cv2.merge([Blue, Green, Red])\n",
    "\n",
    "plt.imshow(BGR)"
   ]
  },
  {
   "cell_type": "code",
   "execution_count": null,
   "metadata": {},
   "outputs": [],
   "source": [
    "gray = cv2.cvtColor(img, cv2.COLOR_BGR2GRAY)\n",
    "\n",
    "plt.imshow(gray,cmap='gray')"
   ]
  },
  {
   "cell_type": "markdown",
   "metadata": {},
   "source": [
    "* 도형 텍스트 처리"
   ]
  },
  {
   "cell_type": "code",
   "execution_count": null,
   "metadata": {},
   "outputs": [],
   "source": [
    "import cv2\n",
    "\n",
    "img = cv2.imread(\"d:/images/rear_garden.PNG\")\n",
    "\n",
    "print(img.shape)\n",
    "\n"
   ]
  },
  {
   "cell_type": "code",
   "execution_count": null,
   "metadata": {},
   "outputs": [],
   "source": [
    "import matplotlib.pyplot as plt\n",
    "\n",
    "img = cv2.cvtColor(img, cv2.COLOR_BGR2RGB)\n",
    "\n",
    "plt.imshow(img)"
   ]
  },
  {
   "cell_type": "code",
   "execution_count": null,
   "metadata": {},
   "outputs": [],
   "source": [
    "# 이미지 내에서 특정한 범위만 지정하여 색상을 변경\n",
    "\n",
    "img[50:100, 50:100] = (0, 0, 255)\n",
    "\n",
    "plt.imshow(img)"
   ]
  },
  {
   "cell_type": "code",
   "execution_count": null,
   "metadata": {},
   "outputs": [],
   "source": [
    "# 선그리기\n",
    "\n",
    "# 시작점, 끝점, 색상, 선굵기\n",
    "\n",
    "cv2.line(img, (350, 100), (500, 100), (255, 0, 0), 5)  \n",
    "\n",
    "plt.imshow(img)"
   ]
  },
  {
   "cell_type": "code",
   "execution_count": null,
   "metadata": {},
   "outputs": [],
   "source": [
    "# 사각형 그리기\n",
    "\n",
    "# 시작점, 끝점, 색상, 선굵기\n",
    "\n",
    "cv2.rectangle(img, (150, 50), (200, 100), (0, 255, 0), 5)  \n",
    "\n",
    "plt.imshow(img)"
   ]
  },
  {
   "cell_type": "code",
   "execution_count": null,
   "metadata": {},
   "outputs": [],
   "source": [
    "# 원그리기\n",
    "\n",
    "# 중심점, 반지름, 색상, -1 색상 채우기\n",
    "\n",
    "cv2.circle(img, (275, 75), 25, (0, 255, 255), -1)  \n",
    "\n",
    "plt.imshow(img)"
   ]
  },
  {
   "cell_type": "code",
   "execution_count": null,
   "metadata": {},
   "outputs": [],
   "source": [
    "import numpy as np\n",
    "\n",
    "from PIL import ImageFont, ImageDraw, Image\n",
    "\n",
    "base_img = Image.fromarray(img).convert('RGBA')\n",
    "\n",
    "# blank 이미지\n",
    "\n",
    "txt_img = Image.new('RGBA', base_img.size, (255,255,255,0))  # Alpha 투명도\n",
    "\n",
    "fontpath = \"c:/windows/fonts/malgun.ttf\"    \n",
    "\n",
    "font = ImageFont.truetype(fontpath, 70)  # 폰트 설정\n",
    "\n",
    "draw = ImageDraw.Draw(txt_img)  \n",
    "\n",
    "draw.text((200, 250), \"안녕하세요\", font=font, fill=(255,255,255,128)) # alpha 반투명\n",
    "\n",
    "draw.text((200, 350), \"안녕하세요\", font=font, fill=(255,255,255,255)) # alpha 불투명\n",
    "\n",
    "# 이미지 결합\n",
    "\n",
    "comp_img = Image.alpha_composite(base_img,txt_img)  \n",
    "\n",
    "img = np.array(comp_img)\n",
    "\n",
    "plt.imshow(img)"
   ]
  },
  {
   "cell_type": "code",
   "execution_count": null,
   "metadata": {},
   "outputs": [],
   "source": [
    "# pip install opencv-python\n",
    "\n",
    "\n",
    "\n",
    "#감마 보정\n",
    "#감마값 1보다 크면 밝아지고, 작으면 어두워짐\n",
    "\n",
    "import cv2\n",
    "import matplotlib.pyplot as plt\n",
    "\n",
    "img = cv2.imread(\"d:/images/apple.jpg\")\n",
    "cv2.imshow(\"original\", img)  \n",
    "cv2.waitKey(0)"
   ]
  },
  {
   "cell_type": "code",
   "execution_count": null,
   "metadata": {},
   "outputs": [],
   "source": [
    "image_rgb = cv2.cvtColor(img, cv2.COLOR_BGR2RGB)\n",
    "\n",
    "plt.imshow(image_rgb)\n",
    "\n",
    "plt.axis(\"off\")\n",
    "\n",
    "plt.show()"
   ]
  },
  {
   "cell_type": "code",
   "execution_count": null,
   "metadata": {},
   "outputs": [],
   "source": [
    "plt.figure(figsize=(20,5))\n",
    "\n",
    "gamma = np.arange(0.5)\n",
    "\n",
    "#plt.subplot(2, 5, i+1)\n",
    "out = image_rgb.copy()\n",
    "#out = image_rgb.astype(np.float64)\n",
    "out = out.astype(np.float64)\n",
    "out = ((out / 255) ** (1 / g)) * 255\n",
    "print(out.min(), out.max())\n",
    "out = out.astype(np.uint8)\n",
    "print(out.min(), out.max())\n",
    "plt.title(f'gamma:{g:.1f}')\n",
    "plt.imshow(out)\n",
    "plt.axis(\"off\")\n",
    "\n",
    "plt.show()"
   ]
  },
  {
   "cell_type": "code",
   "execution_count": null,
   "metadata": {},
   "outputs": [],
   "source": [
    "import numpy as np\n",
    "\n",
    "plt.figure(figsize=(20,5))\n",
    "\n",
    "gamma = np.arange(0.1, 2.0, 0.2)\n",
    "\n",
    "for i, g in enumerate(gamma):\n",
    "\n",
    "    plt.subplot(2, 5, i+1)\n",
    "\n",
    "    out = image_rgb.copy()\n",
    "    #out = image_rgb.astype(np.float64)\n",
    "    out = out.astype(np.float64)\n",
    "    out = ((out / 255) ** (1 / g)) * 255\n",
    "    out = out.astype(np.uint8)\n",
    "\n",
    "    plt.title(f'gamma:{g:.1f}')\n",
    "\n",
    "    plt.imshow(out)\n",
    "\n",
    "    plt.axis(\"off\")\n",
    "\n",
    "plt.show()"
   ]
  },
  {
   "cell_type": "code",
   "execution_count": null,
   "metadata": {},
   "outputs": [],
   "source": [
    "import cv2\n",
    "\n",
    "import numpy as np\n",
    "\n",
    "one = cv2.imread(\"d:/images/one.jpg\")\n",
    "two = cv2.imread(\"d:/images/two.jpg\")\n",
    "three = cv2.imread(\"d:/images/three.jpg\")\n",
    "four = cv2.imread(\"d:/images/four.jpg\")\n",
    "\n",
    "#plt.imshow(four)\n",
    "#plt.axis(\"off\")\n",
    "#plt.show()\n",
    "\n",
    "horizontal1 = np.full((50, one.shape[1], 3), [0, 0, 0], dtype=np.uint8)\n",
    "horizontal2 = np.full((50, two.shape[1], 3), (0, 0, 0), dtype=np.uint8)\n",
    "\n",
    "left = cv2.vconcat((one, horizontal1, three))\n",
    "right = np.vstack((two, horizontal2, four))\n",
    "vertical = np.full((left.shape[0], 50, 3), 0, dtype=np.uint8)\n",
    "dst = cv2.hconcat((left, vertical, right))\n",
    "\n",
    "cv2.imshow(\"dst\", dst)\n",
    "\n",
    "# 아무키 입력하면 종료\n",
    "cv2.waitKey()\n",
    "cv2.destroyAllWindows()"
   ]
  },
  {
   "cell_type": "markdown",
   "metadata": {},
   "source": [
    "* 색상반전"
   ]
  },
  {
   "cell_type": "code",
   "execution_count": null,
   "metadata": {},
   "outputs": [],
   "source": [
    "#색상 반전: 어두운 부분은 밝게, 밝은 부분은 어둡게\n",
    "\n",
    "# 255 - 픽셀값\n",
    "\n",
    "# 200 => 255 - 200 = 55\n",
    "\n",
    "import cv2\n",
    "\n",
    "import matplotlib.pyplot as plt\n",
    "\n",
    "#img = cv2.imread(\"c:/data/images/plane.jpg\")\n",
    "img = cv2.imread(\"d:/images/apple.jpg\")\n",
    "\n",
    "image_rgb = cv2.cvtColor(img, cv2.COLOR_BGR2RGB)\n",
    "\n",
    "plt.imshow(image_rgb)\n",
    "\n",
    "plt.axis(\"off\")\n",
    "\n",
    "plt.show()"
   ]
  },
  {
   "cell_type": "code",
   "execution_count": null,
   "metadata": {},
   "outputs": [],
   "source": [
    "out = img.copy()\n",
    "\n",
    "print(out[0][0:5])\n",
    "\n",
    "out = 255 - out\n",
    "\n",
    "print(out[0][0:5])\n",
    "\n",
    "plt.imshow(out)\n",
    "\n",
    "plt.axis(\"off\")\n",
    "\n",
    "plt.show()"
   ]
  },
  {
   "cell_type": "markdown",
   "metadata": {},
   "source": [
    "* 영상 이진화"
   ]
  },
  {
   "cell_type": "code",
   "execution_count": null,
   "metadata": {},
   "outputs": [],
   "source": [
    "#영상 이진화\n",
    "\n",
    "# 특정한 경계값을 기준으로 0,255로 만드는 작업\n",
    "\n",
    "# 경계가 뚜렷해짐\n",
    "\n",
    "import cv2\n",
    "\n",
    "import matplotlib.pyplot as plt\n",
    "\n",
    "img = cv2.imread(\"d:/images/plane.jpg\")\n",
    "\n",
    "image_rgb = cv2.cvtColor(img, cv2.COLOR_BGR2RGB)\n",
    "\n",
    "plt.imshow(image_rgb)\n",
    "\n",
    "plt.axis(\"off\")\n",
    "\n",
    "plt.show()"
   ]
  },
  {
   "cell_type": "code",
   "execution_count": null,
   "metadata": {},
   "outputs": [],
   "source": [
    "# 픽셀값 127을 기준으로 0,255로 나누는 작업\n",
    "\n",
    "# 127보다 작으면 0, 크면 255\n",
    "print(cv2.THRESH_BINARY) # =0\n",
    "ret, dst = cv2.threshold(image_rgb, 127, 255, cv2.THRESH_BINARY)\n",
    "\n",
    "print(image_rgb[0][:5]) #원본\n",
    "\n",
    "print(ret) #경계값\n",
    "\n",
    "print(dst[0][:5]) #출력값"
   ]
  },
  {
   "cell_type": "code",
   "execution_count": null,
   "metadata": {},
   "outputs": [],
   "source": [
    "plt.imshow(dst, cmap=\"gray\")\n",
    "\n",
    "plt.axis(\"off\")\n",
    "\n",
    "plt.show()"
   ]
  },
  {
   "cell_type": "markdown",
   "metadata": {},
   "source": [
    "* 적응형 이진화"
   ]
  },
  {
   "cell_type": "code",
   "execution_count": null,
   "metadata": {},
   "outputs": [],
   "source": [
    "# Adaptive Threshold, 적응형 이진화: 픽셀마다 다른 임계값을 적용하는 방식\n",
    "\n",
    "# 전역 이진화: 모든 픽셀에 같은 임계값을 적용하는 방식 이진화를 수행하는 방식\n",
    "\n",
    "# ex) 조명의 변화나 반사가 심한 경우"
   ]
  },
  {
   "cell_type": "code",
   "execution_count": null,
   "metadata": {},
   "outputs": [],
   "source": [
    "import cv2\n",
    "\n",
    "import matplotlib.pyplot as plt\n",
    "\n",
    "#img = cv2.imread(\"c:/data/images/tree.jpg\")\n",
    "img = cv2.imread(\"d:/images/plane.jpg\")\n",
    "\n",
    "image_rgb = cv2.cvtColor(img, cv2.COLOR_BGR2RGB)\n",
    "\n",
    "plt.imshow(image_rgb)\n",
    "\n",
    "plt.axis(\"off\")\n",
    "\n",
    "plt.show()"
   ]
  },
  {
   "cell_type": "code",
   "execution_count": null,
   "metadata": {},
   "outputs": [],
   "source": [
    "gray = cv2.cvtColor(img, cv2.COLOR_BGR2GRAY)\n",
    "\n",
    "#adaptiveThreshold(입력이미지, 최대값, 적응형 이진화 플래그, 임계값 형식, 블록 크기, 감산값)\n",
    "\n",
    "#cv2.ADAPTIVE_THRESH_MEAN_C    : 모든 픽셀에 평균 가중치 적용\n",
    "\n",
    "#cv2.ADAPTIVE_THRESH_GAUSSIAN_C    : 모든 픽셀에 중심점으로부터의 거리에 대한 가중치 적용\n",
    "\n",
    "#binary = cv2.adaptiveThreshold(gray, 255, cv2.ADAPTIVE_THRESH_MEAN_C, cv2.THRESH_BINARY, 467, 37)\n",
    "\n",
    "binary = cv2.adaptiveThreshold(gray, 255, cv2.ADAPTIVE_THRESH_GAUSSIAN_C, cv2.THRESH_BINARY, 467, 37)"
   ]
  },
  {
   "cell_type": "code",
   "execution_count": null,
   "metadata": {},
   "outputs": [],
   "source": [
    "image_rgb = cv2.cvtColor(binary, cv2.COLOR_BGR2RGB)\n",
    "\n",
    "plt.imshow(image_rgb)\n",
    "\n",
    "plt.axis(\"off\")\n",
    "\n",
    "plt.show()"
   ]
  },
  {
   "cell_type": "markdown",
   "metadata": {},
   "source": [
    "* 트랙바"
   ]
  },
  {
   "cell_type": "code",
   "execution_count": null,
   "metadata": {},
   "outputs": [],
   "source": [
    "import cv2\n",
    "\n",
    "import numpy as np\n",
    "\n",
    "def onChangeBlue(pos):\n",
    "\n",
    "    global b\n",
    "\n",
    "    b = pos\n",
    "\n",
    "    cv2.imshow(\"Palette\", createImage(b, g, r))\n",
    "\n",
    "def createImage(b, g, r):\n",
    "\n",
    "    return np.full((500, 500, 3), (b, g, r), dtype=np.uint8)\n",
    "\n",
    "b, g, r = 0, 0, 0\n",
    "\n",
    "cv2.namedWindow(\"Palette\")\n",
    "\n",
    "cv2.createTrackbar(\"Blue\", \"Palette\", 55, 255, onChangeBlue)\n",
    "\n",
    "cv2.createTrackbar(\"Green\", \"Palette\", 0, 255, lambda x:x)\n",
    "\n",
    "cv2.createTrackbar(\"Red\", \"Palette\", 0, 255, lambda x:x)\n",
    "\n",
    "while True:\n",
    "\n",
    "    g = cv2.getTrackbarPos(\"Green\", \"Palette\")\n",
    "\n",
    "    r = cv2.getTrackbarPos(\"Red\", \"Palette\")\n",
    "\n",
    "    \n",
    "\n",
    "    cv2.imshow(\"Palette\", createImage(b, g, r))\n",
    "\n",
    "    if cv2.waitKey(33) & 0xFF == ord('q'):\n",
    "\n",
    "        break\n",
    "\n",
    "cv2.destroyAllWindows()"
   ]
  },
  {
   "cell_type": "markdown",
   "metadata": {},
   "source": [
    "* "
   ]
  }
 ],
 "metadata": {
  "kernelspec": {
   "display_name": "Python 3",
   "language": "python",
   "name": "python3"
  },
  "language_info": {
   "codemirror_mode": {
    "name": "ipython",
    "version": 3
   },
   "file_extension": ".py",
   "mimetype": "text/x-python",
   "name": "python",
   "nbconvert_exporter": "python",
   "pygments_lexer": "ipython3",
   "version": "3.9.13"
  },
  "orig_nbformat": 4
 },
 "nbformat": 4,
 "nbformat_minor": 2
}
